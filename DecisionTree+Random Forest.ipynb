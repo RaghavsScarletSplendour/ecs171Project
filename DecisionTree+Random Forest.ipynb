{
  "nbformat": 4,
  "nbformat_minor": 0,
  "metadata": {
    "colab": {
      "provenance": []
    },
    "kernelspec": {
      "name": "python3",
      "display_name": "Python 3"
    },
    "language_info": {
      "name": "python"
    }
  },
  "cells": [
    {
      "cell_type": "code",
      "source": [
        "from google.colab import drive\n",
        "drive.mount('/content/drive')"
      ],
      "metadata": {
        "colab": {
          "base_uri": "https://localhost:8080/"
        },
        "id": "GHwDhQDDv66C",
        "outputId": "6b95a879-c6d9-43bc-9c12-52db69de9419"
      },
      "execution_count": 1,
      "outputs": [
        {
          "output_type": "stream",
          "name": "stdout",
          "text": [
            "Mounted at /content/drive\n"
          ]
        }
      ]
    },
    {
      "cell_type": "code",
      "execution_count": 4,
      "metadata": {
        "colab": {
          "base_uri": "https://localhost:8080/"
        },
        "id": "wb2w74itv3OF",
        "outputId": "1e30600e-6fc6-4afa-cfa5-324dbe29318a"
      },
      "outputs": [
        {
          "output_type": "stream",
          "name": "stdout",
          "text": [
            "Distribution before ADASYN:\n",
            "Revenue\n",
            "0    8338\n",
            "1    1526\n",
            "Name: count, dtype: int64\n",
            "\n",
            "Distribution after ADASYN:\n",
            "Revenue\n",
            "1    8619\n",
            "0    8338\n",
            "Name: count, dtype: int64\n",
            "Model accuracy: 0.7741281427412814\n",
            "\n",
            "Classification Report:\n",
            "              precision    recall  f1-score   support\n",
            "\n",
            "           0       0.87      0.86      0.87      2084\n",
            "           1       0.28      0.28      0.28       382\n",
            "\n",
            "    accuracy                           0.77      2466\n",
            "   macro avg       0.57      0.57      0.57      2466\n",
            "weighted avg       0.78      0.77      0.77      2466\n",
            "\n",
            "\n",
            "Confusion Matrix:\n",
            "[[1802  282]\n",
            " [ 275  107]]\n",
            "\n",
            "Cross-Validation Scores (Classification): [0.72262774 0.78183293 0.73317113 0.75182482 0.73195458]\n",
            "Mean CV Score (Classification): 0.7442822384428224\n"
          ]
        }
      ],
      "source": [
        "from imblearn.over_sampling import SMOTE\n",
        "from sklearn.tree import DecisionTreeClassifier, plot_tree\n",
        "from imblearn.over_sampling import ADASYN\n",
        "import pandas as pd\n",
        "from sklearn.model_selection import train_test_split, cross_val_score\n",
        "from sklearn.metrics import (precision_score, classification_report, confusion_matrix, accuracy_score, f1_score, recall_score,)\n",
        "import matplotlib.pyplot as plt\n",
        "\n",
        "# Load file\n",
        "path = '/content/drive/My Drive/ECS171project/ECS171_FINAL_DATASET.csv'\n",
        "data = pd.read_csv(path)\n",
        "\n",
        "# Separate features and target\n",
        "X = data.drop(columns=['Revenue'])\n",
        "y = data['Revenue']\n",
        "\n",
        "# Split the data\n",
        "X_train, X_test, y_train, y_test = train_test_split(X, y, test_size=0.2, random_state=42, stratify=y)\n",
        "\n",
        "# Apply SMOTE\n",
        "# smote = SMOTE(random_state=42)\n",
        "# X_train_resampled, y_train_resampled = smote.fit_resample(X_train, y_train)\n",
        "\n",
        "# Class distribution after SMOTE\n",
        "# print(\"Class distribution before SMOTE:\")\n",
        "# print(y_train.value_counts())\n",
        "# print(\"\\nClass distribution after SMOTE:\")\n",
        "# print(pd.Series(y_train_resampled).value_counts())\n",
        "\n",
        "adasyn = ADASYN(random_state=42)\n",
        "X_train_resampled, y_train_resampled = adasyn.fit_resample(X_train, y_train)\n",
        "\n",
        "print(\"Distribution before ADASYN:\")\n",
        "print(y_train.value_counts())\n",
        "print(\"\\nDistribution after ADASYN:\")\n",
        "print(pd.Series(y_train_resampled).value_counts())\n",
        "\n",
        "# Training\n",
        "classification_model = DecisionTreeClassifier(random_state=42, class_weight='balanced')\n",
        "classification_model.fit(X_train, y_train)\n",
        "\n",
        "# Predictions\n",
        "y_pred = classification_model.predict(X_test)\n",
        "\n",
        "# Evaluation\n",
        "accuracy = accuracy_score(y_test, y_pred)\n",
        "print(\"Model accuracy:\", accuracy)\n",
        "\n",
        "print(\"\\nClassification Report:\")\n",
        "print(classification_report(y_test, y_pred))\n",
        "\n",
        "print(\"\\nConfusion Matrix:\")\n",
        "print(confusion_matrix(y_test, y_pred))\n",
        "\n",
        "cv_scores = cross_val_score(classification_model, X, y, cv=5)\n",
        "print(f\"\\nCross-Validation Scores (Classification): {cv_scores}\")\n",
        "print(f\"Mean CV Score (Classification): {cv_scores.mean()}\")\n"
      ]
    },
    {
      "cell_type": "markdown",
      "source": [
        "#Observations:\n",
        "##Strength:\n",
        "The model performs well on the majority class (Class 0).\n",
        "##Weakness:\n",
        "Performance on the minority class (Class 1) remains poor, with low precision and recall.\n",
        "Decision trees tend to overfit and may not generalize well to unseen data.\n",
        "##ADASYN Impact:\n",
        "Balancing the dataset with ADASYN reduced extreme bias toward Class 0 but did not fully resolve the challenge of identifying Class 1\n",
        "\n",
        "# Next steps\n",
        "\n",
        "**Try using a different model**"
      ],
      "metadata": {
        "id": "EOS3GCrONc0G"
      }
    },
    {
      "cell_type": "code",
      "source": [
        "from sklearn.metrics import precision_recall_curve, auc\n",
        "import matplotlib.pyplot as plt\n",
        "\n",
        "precision, recall, _ = precision_recall_curve(y_test, classification_model.predict_proba(X_test)[:, 1])\n",
        "auc_score = auc(recall, precision)\n",
        "\n",
        "plt.plot(recall, precision, marker='.')\n",
        "plt.xlabel('Recall')\n",
        "plt.ylabel('Precision')\n",
        "plt.title(f'Precision-Recall Curve (AUC = {auc_score:.2f})')\n",
        "plt.show()\n"
      ],
      "metadata": {
        "colab": {
          "base_uri": "https://localhost:8080/",
          "height": 472
        },
        "id": "elsB_HCHzdzj",
        "outputId": "7ca22cf3-e59c-4b30-b5bc-c71862dfbaf0"
      },
      "execution_count": null,
      "outputs": [
        {
          "output_type": "display_data",
          "data": {
            "text/plain": [
              "<Figure size 640x480 with 1 Axes>"
            ],
            "image/png": "[encoded data removed]"
          },
          "metadata": {}
        }
      ]
    },
    {
      "cell_type": "code",
      "source": [
        "import pandas as pd\n",
        "from sklearn.model_selection import train_test_split\n",
        "from sklearn.ensemble import RandomForestClassifier\n",
        "from sklearn.metrics import classification_report, accuracy_score\n",
        "from imblearn.over_sampling import SMOTE\n",
        "\n",
        "path = '/content/drive/My Drive/ECS171project/ECS171_FINAL_DATASET.csv'\n",
        "data = pd.read_csv(path)  # For CSV files\n",
        "\n",
        "# Splitting\n",
        "X = data.drop(columns=['Revenue'])\n",
        "y = data['Revenue']\n",
        "\n",
        "X_train, X_test, y_train, y_test = train_test_split(X, y, test_size=0.2, random_state=42)\n",
        "\n",
        "# SMOTE\n",
        "smote = SMOTE(random_state=42)\n",
        "X_resampled, y_resampled = smote.fit_resample(X_train, y_train)\n",
        "\n",
        "# Train\n",
        "random_forest_balanced = RandomForestClassifier(random_state=42)\n",
        "random_forest_balanced.fit(X_resampled, y_resampled)\n",
        "\n",
        "# Predict\n",
        "y_pred_balanced = random_forest_balanced.predict(X_test)\n",
        "\n",
        "# Evaluation\n",
        "accuracy_balanced = accuracy_score(y_test, y_pred_balanced)\n",
        "report_balanced = classification_report(y_test, y_pred_balanced)\n",
        "\n",
        "print(f'Accuracy: {accuracy_balanced}')\n",
        "print('Classification Report:')\n",
        "print(report_balanced)\n"
      ],
      "metadata": {
        "id": "GqewWxXT0HyT",
        "colab": {
          "base_uri": "https://localhost:8080/"
        },
        "outputId": "0824e817-33f3-432b-a16f-854377f2c819"
      },
      "execution_count": null,
      "outputs": [
        {
          "output_type": "stream",
          "name": "stdout",
          "text": [
            "Accuracy: 0.7842660178426601\n",
            "Classification Report:\n",
            "              precision    recall  f1-score   support\n",
            "\n",
            "           0       0.87      0.87      0.87      2055\n",
            "           1       0.36      0.38      0.37       411\n",
            "\n",
            "    accuracy                           0.78      2466\n",
            "   macro avg       0.62      0.62      0.62      2466\n",
            "weighted avg       0.79      0.78      0.79      2466\n",
            "\n"
          ]
        }
      ]
    },
    {
      "cell_type": "markdown",
      "source": [
        "\n",
        "### Observations:\n",
        "1. **Class 0 (majority)**: Still has high precision and recall.\n",
        "2. **Class 1 (minority)**: Significant improvement in both precision (36%) and recall (38%) compared to the unbalanced model.\n",
        "3. The overall macro average metrics (precision, recall, and F1-score) have become more balanced.\n",
        "\n",
        "### Next Steps:\n",
        "- **Fine-tuning the model**:"
      ],
      "metadata": {
        "id": "5ihWHMNO4z2W"
      }
    },
    {
      "cell_type": "code",
      "source": [
        "from sklearn.model_selection import RandomizedSearchCV\n",
        "import numpy as np\n",
        "\n",
        "# Randomized Search\n",
        "param_dist = {\n",
        "    'n_estimators': [50, 100, 200],\n",
        "    'max_depth': [None, 10, 20],\n",
        "    'min_samples_split': [2, 5],\n",
        "    'min_samples_leaf': [1, 2],\n",
        "    'bootstrap': [True, False]\n",
        "}\n",
        "\n",
        "# Initialize\n",
        "random_search = RandomizedSearchCV(\n",
        "    estimator=RandomForestClassifier(random_state=42),\n",
        "    param_distributions=param_dist,\n",
        "    n_iter=20,  # Number of random combinations to try\n",
        "    scoring='accuracy',\n",
        "    cv=3,\n",
        "    verbose=2,\n",
        "    random_state=42,\n",
        "    n_jobs=-1\n",
        ")\n",
        "\n",
        "# Perform randomized search\n",
        "random_search.fit(X_resampled, y_resampled)\n",
        "\n",
        "best_params_random = random_search.best_params_\n",
        "best_score_random = random_search.best_score_\n",
        "\n",
        "print(\"Best Parameters:\", best_params_random)\n",
        "print(\"Best CV Accuracy:\", best_score_random)\n",
        "\n",
        "# Train\n",
        "best_model = RandomForestClassifier(**best_params_random, random_state=42)\n",
        "best_model.fit(X_resampled, y_resampled)\n",
        "\n",
        "# Predict\n",
        "y_pred_random = best_model.predict(X_test)\n",
        "\n",
        "# Evaluation\n",
        "accuracy = accuracy_score(y_test, y_pred_random)\n",
        "report = classification_report(y_test, y_pred_random)\n",
        "\n",
        "print(\"Test Accuracy:\", accuracy)\n",
        "print(\"Classification Report:\")\n",
        "print(report)\n"
      ],
      "metadata": {
        "colab": {
          "base_uri": "https://localhost:8080/"
        },
        "id": "fsTgDQtn4BVX",
        "outputId": "f4201066-ad5e-4d43-b6a5-3a3044d53cea"
      },
      "execution_count": null,
      "outputs": [
        {
          "output_type": "stream",
          "name": "stdout",
          "text": [
            "Fitting 3 folds for each of 20 candidates, totalling 60 fits\n",
            "Best Parameters: {'n_estimators': 50, 'min_samples_split': 5, 'min_samples_leaf': 1, 'max_depth': None, 'bootstrap': False}\n",
            "Best CV Accuracy: 0.8614796223258038\n",
            "Test Accuracy: 0.7887266828872669\n",
            "Classification Report:\n",
            "              precision    recall  f1-score   support\n",
            "\n",
            "           0       0.87      0.88      0.87      2055\n",
            "           1       0.36      0.35      0.36       411\n",
            "\n",
            "    accuracy                           0.79      2466\n",
            "   macro avg       0.62      0.61      0.61      2466\n",
            "weighted avg       0.79      0.79      0.79      2466\n",
            "\n"
          ]
        }
      ]
    },
    {
      "cell_type": "markdown",
      "source": [
        "\n",
        "### Observations:\n",
        "1. **Class 0**:\n",
        " - High performance (precision and recall ~87%).\n",
        "2. **Class 1**:\n",
        " - Slight improvement in balance, but still underperforming compared to Class 0. This is expected given the inherent difficulty in predicting the minority class."
      ],
      "metadata": {
        "id": "vGZ4mRZf7dZ8"
      }
    }
  ]
}
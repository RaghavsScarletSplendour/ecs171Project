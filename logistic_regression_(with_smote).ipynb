{
  "nbformat": 4,
  "nbformat_minor": 0,
  "metadata": {
    "colab": {
      "provenance": []
    },
    "kernelspec": {
      "name": "python3",
      "display_name": "Python 3"
    },
    "language_info": {
      "name": "python"
    }
  },
  "cells": [
    {
      "cell_type": "code",
      "source": [
        "import numpy as np\n",
        "import pandas as pd\n",
        "from imblearn.over_sampling import SMOTE\n",
        "from sklearn.model_selection import train_test_split\n",
        "from sklearn.linear_model import LogisticRegression\n",
        "from sklearn.metrics import accuracy_score, precision_score, recall_score, f1_score, roc_auc_score, confusion_matrix\n",
        "\n",
        "#set the seed for reproducibility\n",
        "np.random.seed(42)\n",
        "\n",
        "#load the scaled and encoded dataset\n",
        "data_scaled = pd.read_csv(\"ECS171_FINAL_DATASET.csv\")\n",
        "\n",
        "#define the features (X) and target variable (y)\n",
        "X = data_scaled[['VisitorType_New_Visitor', 'VisitorType_Other', 'VisitorType_Returning_Visitor',\n",
        "                 'Quarter_Q1', 'Quarter_Q2', 'Quarter_Q3', 'Quarter_Q4',\n",
        "                   'ProductRelated_Duration', 'BounceRates', 'ExitRates', 'TrafficType']]\n",
        "y = data_scaled['Revenue']  # Target variable\n",
        "\n",
        "#apply smote to handle class imbalance by oversampling the minority class\n",
        "smote = SMOTE(random_state=42)\n",
        "X_resampled, y_resampled = smote.fit_resample(X, y)\n",
        "\n",
        "#split the resampled data into training and test sets (70/30 split)\n",
        "X_train, X_test, y_train, y_test = train_test_split(X_resampled, y_resampled, test_size=0.3, random_state=42)\n",
        "\n",
        "#initialize logistic regression model\n",
        "log_reg = LogisticRegression(max_iter=1000, random_state=42)\n",
        "\n",
        "#train the logistic regression model\n",
        "log_reg.fit(X_train, y_train)\n",
        "\n",
        "#predictions on the test set (probabilities)\n",
        "y_test_pred_proba = log_reg.predict_proba(X_test)[:, 1]  #probs for the positive class (Revenue = 1)\n",
        "\n",
        "#chose a custom threshold and it works well\n",
        "threshold = 0.3\n",
        "y_test_pred = (y_test_pred_proba >= threshold).astype(int)\n",
        "\n",
        "#evaluation metrics\n",
        "print(\"\\nModel Performance After Oversampling with Threshold Adjustment:\")\n",
        "print(\"Accuracy:\", accuracy_score(y_test, y_test_pred))\n",
        "print(\"Precision:\", precision_score(y_test, y_test_pred))\n",
        "print(\"Recall:\", recall_score(y_test, y_test_pred))\n",
        "print(\"F1 Score:\", f1_score(y_test, y_test_pred))\n",
        "print(\"ROC AUC Score:\", roc_auc_score(y_test, y_test_pred_proba))\n",
        "print(\"Confusion Matrix:\\n\", confusion_matrix(y_test, y_test_pred))\n"
      ],
      "metadata": {
        "colab": {
          "base_uri": "https://localhost:8080/"
        },
        "id": "Yn55yzUbIoQO",
        "outputId": "4b42b049-2375-4c54-8fc2-48411a636e80"
      },
      "execution_count": 18,
      "outputs": [
        {
          "output_type": "stream",
          "name": "stdout",
          "text": [
            "\n",
            "Model Performance After Oversampling with Threshold Adjustment:\n",
            "Accuracy: 0.6466261592580749\n",
            "Precision: 0.5904892906268422\n",
            "Recall: 0.9597572660491855\n",
            "F1 Score: 0.7311435523114356\n",
            "ROC AUC Score: 0.7419628920222132\n",
            "Confusion Matrix:\n",
            " [[1039 2084]\n",
            " [ 126 3005]]\n"
          ]
        }
      ]
    }
  ]
}
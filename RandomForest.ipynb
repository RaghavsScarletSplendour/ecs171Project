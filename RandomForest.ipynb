{
 "cells": [
  {
   "cell_type": "code",
   "execution_count": 1,
   "id": "fd261a70-20f8-4169-9828-da55beb033c5",
   "metadata": {},
   "outputs": [
    {
     "name": "stdout",
     "output_type": "stream",
     "text": [
      "   ProductRelated  ProductRelated_Duration  BounceRates  ExitRates   \n",
      "0       -0.691003                -0.624348     3.667189   3.229316  \\\n",
      "1       -0.668518                -0.590903    -0.457683   1.171473   \n",
      "2       -0.691003                -0.624348     3.667189   3.229316   \n",
      "3       -0.668518                -0.622954     0.573535   1.994610   \n",
      "4       -0.488636                -0.296430    -0.045196   0.142551   \n",
      "\n",
      "   OperatingSystems  Browser  Region  TrafficType  Weekend  Revenue  ...   \n",
      "0                 1        1       1            1        0        0  ...  \\\n",
      "1                 2        2       1            2        0        0  ...   \n",
      "2                 4        1       9            3        0        0  ...   \n",
      "3                 3        2       2            4        0        0  ...   \n",
      "4                 3        3       1            4        1        0  ...   \n",
      "\n",
      "   Month_Nov  Month_Oct  Month_Sep  Quarter_Q1  Quarter_Q2  Quarter_Q3   \n",
      "0          0          0          0           1           0           0  \\\n",
      "1          0          0          0           1           0           0   \n",
      "2          0          0          0           1           0           0   \n",
      "3          0          0          0           1           0           0   \n",
      "4          0          0          0           1           0           0   \n",
      "\n",
      "   Quarter_Q4  VisitorType_New_Visitor  VisitorType_Other   \n",
      "0           0                        0                  0  \\\n",
      "1           0                        0                  0   \n",
      "2           0                        0                  0   \n",
      "3           0                        0                  0   \n",
      "4           0                        0                  0   \n",
      "\n",
      "   VisitorType_Returning_Visitor  \n",
      "0                              1  \n",
      "1                              1  \n",
      "2                              1  \n",
      "3                              1  \n",
      "4                              1  \n",
      "\n",
      "[5 rows x 27 columns]\n"
     ]
    },
    {
     "ename": "NameError",
     "evalue": "name 'train_test_split' is not defined",
     "output_type": "error",
     "traceback": [
      "\u001b[0;31m---------------------------------------------------------------------------\u001b[0m",
      "\u001b[0;31mNameError\u001b[0m                                 Traceback (most recent call last)",
      "Cell \u001b[0;32mIn[1], line 12\u001b[0m\n\u001b[1;32m      9\u001b[0m X \u001b[38;5;241m=\u001b[39m data\u001b[38;5;241m.\u001b[39mdrop(columns \u001b[38;5;241m=\u001b[39m [\u001b[38;5;124m'\u001b[39m\u001b[38;5;124mRevenue\u001b[39m\u001b[38;5;124m'\u001b[39m])\n\u001b[1;32m     10\u001b[0m y \u001b[38;5;241m=\u001b[39m data[\u001b[38;5;124m'\u001b[39m\u001b[38;5;124mRevenue\u001b[39m\u001b[38;5;124m'\u001b[39m]\n\u001b[0;32m---> 12\u001b[0m X_train, X_test, y_train, y_test \u001b[38;5;241m=\u001b[39m \u001b[43mtrain_test_split\u001b[49m(X, y, test_size\u001b[38;5;241m=\u001b[39m\u001b[38;5;241m0.2\u001b[39m, random_state\u001b[38;5;241m=\u001b[39m\u001b[38;5;241m42\u001b[39m)\n",
      "\u001b[0;31mNameError\u001b[0m: name 'train_test_split' is not defined"
     ]
    }
   ],
   "source": [
    "import pandas as pd\n",
    "\n",
    "# Load the CSV file\n",
    "data = pd.read_csv('ECS171_FINAL_DATASET.csv')\n",
    "\n",
    "# Display the first few rows of the dataset\n",
    "print(data.head())\n",
    "\n",
    "X = data.drop(columns = ['Revenue'])\n",
    "y = data['Revenue']\n",
    "\n",
    "X_train, X_test, y_train, y_test = train_test_split(X, y, test_size=0.2, random_state=42)\n"
   ]
  },
  {
   "cell_type": "code",
   "execution_count": 2,
   "id": "ca852cf6-fd1c-4711-8d10-8be0d971c8c8",
   "metadata": {},
   "outputs": [
    {
     "ename": "ModuleNotFoundError",
     "evalue": "No module named 'imblearn'",
     "output_type": "error",
     "traceback": [
      "\u001b[0;31m---------------------------------------------------------------------------\u001b[0m",
      "\u001b[0;31mModuleNotFoundError\u001b[0m                       Traceback (most recent call last)",
      "Cell \u001b[0;32mIn[2], line 5\u001b[0m\n\u001b[1;32m      3\u001b[0m \u001b[38;5;28;01mfrom\u001b[39;00m \u001b[38;5;21;01msklearn\u001b[39;00m\u001b[38;5;21;01m.\u001b[39;00m\u001b[38;5;21;01mensemble\u001b[39;00m \u001b[38;5;28;01mimport\u001b[39;00m RandomForestClassifier\n\u001b[1;32m      4\u001b[0m \u001b[38;5;28;01mfrom\u001b[39;00m \u001b[38;5;21;01msklearn\u001b[39;00m\u001b[38;5;21;01m.\u001b[39;00m\u001b[38;5;21;01mmetrics\u001b[39;00m \u001b[38;5;28;01mimport\u001b[39;00m classification_report, accuracy_score\n\u001b[0;32m----> 5\u001b[0m \u001b[38;5;28;01mfrom\u001b[39;00m \u001b[38;5;21;01mimblearn\u001b[39;00m\u001b[38;5;21;01m.\u001b[39;00m\u001b[38;5;21;01mover_sampling\u001b[39;00m \u001b[38;5;28;01mimport\u001b[39;00m SMOTE\n\u001b[1;32m      7\u001b[0m \u001b[38;5;66;03m# Load dataset\u001b[39;00m\n\u001b[1;32m      8\u001b[0m file_path \u001b[38;5;241m=\u001b[39m \u001b[38;5;124m'\u001b[39m\u001b[38;5;124mECS171_FINAL_DATASET.csv\u001b[39m\u001b[38;5;124m'\u001b[39m  \u001b[38;5;66;03m# Adjust the path as needed\u001b[39;00m\n",
      "\u001b[0;31mModuleNotFoundError\u001b[0m: No module named 'imblearn'"
     ]
    }
   ],
   "source": [
    "import pandas as pd\n",
    "from sklearn.model_selection import train_test_split\n",
    "from sklearn.ensemble import RandomForestClassifier\n",
    "from sklearn.metrics import classification_report, accuracy_score\n",
    "from imblearn.over_sampling import SMOTE\n",
    "\n",
    "# Load dataset\n",
    "file_path = 'ECS171_FINAL_DATASET.csv'  # Adjust the path as needed\n",
    "data = pd.read_csv(file_path)\n",
    "\n",
    "# Splitting data into features (X) and target (y)\n",
    "X = data.drop(columns=['Revenue'])\n",
    "y = data['Revenue']\n",
    "\n",
    "# Splitting into training and testing sets\n",
    "X_train, X_test, y_train, y_test = train_test_split(X, y, test_size=0.2, random_state=42)\n",
    "\n",
    "# Addressing class imbalance using SMOTE\n",
    "smote = SMOTE(random_state=42)\n",
    "X_resampled, y_resampled = smote.fit_resample(X_train, y_train)\n",
    "\n",
    "# Train the Random Forest Classifier on the balanced dataset\n",
    "random_forest_balanced = RandomForestClassifier(random_state=42)\n",
    "random_forest_balanced.fit(X_resampled, y_resampled)\n",
    "\n",
    "# Predict on the test data\n",
    "y_pred_balanced = random_forest_balanced.predict(X_test)\n",
    "\n",
    "# Evaluate the balanced model\n",
    "accuracy_balanced = accuracy_score(y_test, y_pred_balanced)\n",
    "report_balanced = classification_report(y_test, y_pred_balanced)\n",
    "\n",
    "print(f'Accuracy: {accuracy_balanced}')\n",
    "print('Classification Report:')\n",
    "print(report_balanced)\n"
   ]
  },
  {
   "cell_type": "code",
   "execution_count": null,
   "id": "0c0601e6-8e4d-4e3a-879c-7d6523c9a8de",
   "metadata": {},
   "outputs": [],
   "source": []
  }
 ],
 "metadata": {
  "kernelspec": {
   "display_name": "Python 3 (ipykernel)",
   "language": "python",
   "name": "python3"
  },
  "language_info": {
   "codemirror_mode": {
    "name": "ipython",
    "version": 3
   },
   "file_extension": ".py",
   "mimetype": "text/x-python",
   "name": "python",
   "nbconvert_exporter": "python",
   "pygments_lexer": "ipython3",
   "version": "3.10.5"
  }
 },
 "nbformat": 4,
 "nbformat_minor": 5
}
